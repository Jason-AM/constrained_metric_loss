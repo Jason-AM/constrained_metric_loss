{
 "cells": [
  {
   "cell_type": "code",
   "execution_count": 1,
   "id": "667045f7-80a9-4f5c-83b6-7f18f0db67cc",
   "metadata": {},
   "outputs": [],
   "source": [
    "%load_ext autoreload\n",
    "%autoreload 2"
   ]
  },
  {
   "cell_type": "markdown",
   "id": "bab46776",
   "metadata": {},
   "source": [
    "https://www.cl.cam.ac.uk/teaching/2021/LE49/probnn/3-3.pdf"
   ]
  },
  {
   "cell_type": "code",
   "execution_count": 2,
   "id": "15e8aec4",
   "metadata": {},
   "outputs": [],
   "source": [
    "import os\n",
    "\n",
    "os.environ['KMP_DUPLICATE_LIB_OK']='True'"
   ]
  },
  {
   "cell_type": "code",
   "execution_count": 90,
   "id": "24c97769-29e4-410f-8808-b040df6f4bd7",
   "metadata": {},
   "outputs": [],
   "source": [
    "import matplotlib.pyplot as plt\n",
    "import numpy as np\n",
    "import pandas as pd\n",
    "\n",
    "from sklearn.metrics import precision_score, recall_score, roc_curve\n",
    "from sklearn.linear_model import LogisticRegression\n",
    "\n",
    "import torch\n",
    "import torch.nn as nn\n",
    "import torch.optim as optim\n",
    "from torch.autograd import Variable\n",
    "\n",
    "from constrained_metric_loss.min_precision_loss import MinPrecLoss, LearnableMinPrecLoss"
   ]
  },
  {
   "cell_type": "markdown",
   "id": "b09adacd-7d09-4f57-a007-10fe19cfc16a",
   "metadata": {},
   "source": [
    "# model"
   ]
  },
  {
   "cell_type": "code",
   "execution_count": 140,
   "id": "99171181-e6da-4c02-82f0-7568e9bdd4aa",
   "metadata": {},
   "outputs": [],
   "source": [
    "class LogReg(nn.Module):\n",
    "    \"\"\"Normal logistic regression with BCE loss\"\"\"\n",
    "    def __init__(self, nfeat, model_param_init, loss, loss_arguments, trainable_loss_arguments=None):\n",
    "        super().__init__()\n",
    "        \n",
    "        self.nfeat = nfeat\n",
    "        self.beta = nn.Parameter(torch.from_numpy(model_param_init).float())\n",
    "        assert nfeat + 1 == len(model_param_init), \"Using the coefficient trick so need to add one extra parameter\"\n",
    "        \n",
    "        self.loss = loss\n",
    "        self.loss_arguments = loss_arguments\n",
    "        self.trainable_loss_arguments = trainable_loss_arguments\n",
    "        \n",
    "        self.loss_func = self.loss(**self.loss_arguments)\n",
    "\n",
    "            \n",
    "        \n",
    "    def forward(self, x, y):\n",
    "        x = np.column_stack((x, np.ones([x.shape[0]])))\n",
    "        x = torch.from_numpy(x).float()\n",
    "        y = torch.from_numpy(y)\n",
    "        \n",
    "        \n",
    "        self.f = x @ self.beta\n",
    "        \n",
    "        if self.trainable_loss_arguments:\n",
    "            for i, p in enumerate(list(self.parameters())[1:]):\n",
    "                p.data.clamp_(\n",
    "                    self.trainable_loss_arguments[i][0], self.trainable_loss_arguments[i][1]\n",
    "                )\n",
    "                \n",
    "                \n",
    "                \n",
    "        \n",
    "        return self.loss_func(self.f, y.float())\n",
    "    \n",
    "    def predict_proba(self, xtest):\n",
    "        \n",
    "        if len(xtest.shape) == 1:\n",
    "            xtest = xtest.reshape([1, self.nfeat])\n",
    "        \n",
    "        xtest = np.column_stack((xtest, np.ones([xtest.shape[0]])))\n",
    "        xtest = torch.from_numpy(xtest).float()\n",
    "        \n",
    "        f = xtest @ self.beta\n",
    "        return torch.sigmoid(f).detach().numpy().flatten()\n",
    "    \n",
    "    def fit(self, x, y, optimizer, n_batches=10_000, clipping=True):\n",
    "        \n",
    "        for i in range(n_batches):\n",
    "            optimizer.zero_grad()\n",
    "            loss = self.forward(x, y)\n",
    "            loss.backward()\n",
    "            optimizer.step()\n",
    "                \n",
    "            "
   ]
  },
  {
   "cell_type": "markdown",
   "id": "283d118b-651a-4802-9da0-d15f4b50da1c",
   "metadata": {},
   "source": [
    "#### set up model performance functions"
   ]
  },
  {
   "cell_type": "code",
   "execution_count": 134,
   "id": "6c9b38e4-7333-4a18-be3d-a36144e598a4",
   "metadata": {},
   "outputs": [],
   "source": [
    "def run_model(x, y, xtest, ytest, thresh, model_param_init, loss, loss_params, trainable_loss_arguments=None):\n",
    "    model = LogReg(\n",
    "        nfeat=x.shape[1], \n",
    "        model_param_init=model_param_init, \n",
    "        loss=loss, \n",
    "        loss_arguments=loss_params,\n",
    "        trainable_loss_arguments=trainable_loss_arguments,\n",
    "    )\n",
    "    optimizer = optim.Adam(model.parameters(), lr=0.1)\n",
    "    model.fit(x, y, optimizer)\n",
    "    \n",
    "    \n",
    "\n",
    "    phat = model.predict_proba(xtest)\n",
    "    yhat = (phat >= thresh).astype(int)\n",
    "    \n",
    "    prec = precision_score(ytest, yhat)\n",
    "    rec = recall_score(ytest, yhat)\n",
    "\n",
    "    return prec, rec, model"
   ]
  },
  {
   "cell_type": "markdown",
   "id": "bcc3d93e-64c3-4845-b00b-4b6b2be018ab",
   "metadata": {},
   "source": [
    "# datasets"
   ]
  },
  {
   "cell_type": "markdown",
   "id": "9981fa10-93d8-4c8e-b231-af4015b3aa8e",
   "metadata": {},
   "source": [
    "### Baisc data example"
   ]
  },
  {
   "cell_type": "code",
   "execution_count": 122,
   "id": "3fb27833",
   "metadata": {},
   "outputs": [],
   "source": [
    "n = 10000\n",
    "\n",
    "rng = np.random.default_rng(5)\n",
    "\n",
    "x1 = rng.normal(0, 1, size=n)\n",
    "x2 = rng.normal(3, 2.2, size=n)\n",
    "\n",
    "\n",
    "beta0_true = -0.4\n",
    "beta1_true = -5.3\n",
    "beta2_true = 3.1\n",
    "\n",
    "p = 1/(1+np.exp(-(beta0_true + beta1_true*x1 + beta2_true*x2)))\n",
    "\n",
    "y_basic = rng.binomial(1, p, size=n)\n",
    "x_basic = np.column_stack((x1, x2))"
   ]
  },
  {
   "cell_type": "code",
   "execution_count": 123,
   "id": "75c87c04",
   "metadata": {
    "scrolled": true
   },
   "outputs": [
    {
     "data": {
      "text/plain": [
       "<matplotlib.collections.PathCollection at 0x7fd712f256d0>"
      ]
     },
     "execution_count": 123,
     "metadata": {},
     "output_type": "execute_result"
    },
    {
     "data": {
      "image/png": "[encoded data removed]",
      "text/plain": [
       "<Figure size 432x288 with 1 Axes>"
      ]
     },
     "metadata": {
      "needs_background": "light"
     },
     "output_type": "display_data"
    }
   ],
   "source": [
    "plt.scatter(x1, x2, c=p)"
   ]
  },
  {
   "cell_type": "code",
   "execution_count": 124,
   "id": "f8328cb3-2ec7-4de9-9542-3a2741f0df07",
   "metadata": {},
   "outputs": [],
   "source": [
    "ntest = int(np.floor(n/10))\n",
    "\n",
    "x1test = rng.normal(0, 1, size=ntest)\n",
    "x2test = rng.normal(3, 2.2, size=ntest)\n",
    "\n",
    "ptest = 1/(1+np.exp(-(beta0_true + beta1_true*x1test + beta2_true*x2test)))\n",
    "\n",
    "xtest_basic = np.column_stack((x1test, x2test))\n",
    "\n",
    "ytest_basic = rng.binomial(1, ptest, size=ntest)"
   ]
  },
  {
   "cell_type": "code",
   "execution_count": 125,
   "id": "e3a83238-96d1-4e06-b958-836011024440",
   "metadata": {},
   "outputs": [
    {
     "data": {
      "text/plain": [
       "(0.9803012746234068, 0.986013986013986)"
      ]
     },
     "execution_count": 125,
     "metadata": {},
     "output_type": "execute_result"
    }
   ],
   "source": [
    "param_init = np.zeros(x_basic.shape[1] + 1) # includes the intercept term\n",
    "\n",
    "bce_prec, bce_recall, bce_model = run_model(\n",
    "    x_basic, \n",
    "    y_basic, \n",
    "    xtest_basic, \n",
    "    ytest_basic, \n",
    "    0.5, \n",
    "    param_init, \n",
    "    loss = nn.BCEWithLogitsLoss, \n",
    "    loss_params = {}\n",
    ")\n",
    "\n",
    "bce_prec, bce_recall"
   ]
  },
  {
   "cell_type": "code",
   "execution_count": 129,
   "id": "2b584f15-a99b-4765-9077-b35e5cbbfa96",
   "metadata": {},
   "outputs": [
    {
     "data": {
      "text/plain": [
       "(0.9880952380952381, 0.9673659673659674)"
      ]
     },
     "execution_count": 129,
     "metadata": {},
     "output_type": "execute_result"
    }
   ],
   "source": [
    "param_init = np.zeros(x_basic.shape[1] + 1) # includes the intercept term\n",
    "\n",
    "bce_prec, bce_recall, bce_model = run_model(\n",
    "    x_basic, \n",
    "    y_basic, \n",
    "    xtest_basic, \n",
    "    ytest_basic, \n",
    "    0.5, \n",
    "    param_init, \n",
    "    loss = nn.BCEWithLogitsLoss, \n",
    "    loss_params = {\"pos_weight\": 0.3 * torch.ones(len(y_basic))}\n",
    ")\n",
    "\n",
    "bce_prec, bce_recall"
   ]
  },
  {
   "cell_type": "code",
   "execution_count": null,
   "id": "3250433f-2fc4-482a-ba6f-d2a839ca747d",
   "metadata": {},
   "outputs": [],
   "source": [
    "sklearnlogreg = LogisticRegression()\n",
    "sklearnlogreg = sklearnlogreg.fit(x_basic, y_basic)\n",
    "param_init = np.concatenate([sklearnlogreg.coef_.flatten(), sklearnlogreg.intercept_])\n",
    "\n",
    "maxrecall_prec, maxrecall_recall, maxrecall_model = run_model(\n",
    "    x_basic, \n",
    "    y_basic, \n",
    "    xtest_basic, \n",
    "    ytest_basic, \n",
    "    0.5, \n",
    "    param_init,\n",
    "    loss = MinPrecLoss, \n",
    "    loss_params = {\n",
    "        'min_prec':0.8, \n",
    "        'lmbda': 1e9, \n",
    "        'sigmoid_hyperparams': {'gamma': 7, 'delta': 0.035, 'eps': 0.75},\n",
    "        # 'sigmoid_params': {'mtilde': 6.85,'btilde': -3.54, 'mhat': 6.85, 'bhat': 1.59}\n",
    "    }\n",
    ")\n",
    "\n",
    "\n",
    "maxrecall_prec, maxrecall_recall"
   ]
  },
  {
   "cell_type": "code",
   "execution_count": 141,
   "id": "30d8c31c-7261-4c26-bc70-70dd1ef1632b",
   "metadata": {},
   "outputs": [
    {
     "data": {
      "text/plain": [
       "(0.9595505617977528,\n",
       " 0.9953379953379954,\n",
       " [Parameter containing:\n",
       "  tensor([-5.0187,  3.5720,  0.5401], requires_grad=True),\n",
       "  Parameter containing:\n",
       "  tensor(1.3514, requires_grad=True),\n",
       "  Parameter containing:\n",
       "  tensor(8.7476, requires_grad=True),\n",
       "  Parameter containing:\n",
       "  tensor(-1.4793, requires_grad=True),\n",
       "  Parameter containing:\n",
       "  tensor(7.3534, requires_grad=True),\n",
       "  Parameter containing:\n",
       "  tensor(1., requires_grad=True)])"
      ]
     },
     "execution_count": 141,
     "metadata": {},
     "output_type": "execute_result"
    }
   ],
   "source": [
    "\n",
    "sklearnlogreg = LogisticRegression()\n",
    "sklearnlogreg = sklearnlogreg.fit(x_basic, y_basic)\n",
    "param_init = np.concatenate([sklearnlogreg.coef_.flatten(), sklearnlogreg.intercept_])\n",
    "\n",
    "maxrecall_prec, maxrecall_recall, maxrecall_model = run_model(\n",
    "    x_basic, \n",
    "    y_basic, \n",
    "    xtest_basic, \n",
    "    ytest_basic, \n",
    "    0.5, \n",
    "    param_init,\n",
    "    loss = LearnableMinPrecLoss, \n",
    "    loss_params = {\n",
    "        'min_prec':0.8, \n",
    "        'lmbda': 1e9, \n",
    "        'lmbda2': 1e9, \n",
    "        'sigmoid_hyperparams': {\n",
    "            'sigmoid_scale': nn.Parameter(torch.tensor(0.2)), \n",
    "            'mtilde': nn.Parameter(torch.tensor(6.8)), \n",
    "            'btilde': nn.Parameter(torch.tensor(-3.5)),\n",
    "            'mhat': nn.Parameter(torch.tensor(6.8)),\n",
    "            'bhat': nn.Parameter(torch.tensor(1.5))\n",
    "        }\n",
    "    },\n",
    "    trainable_loss_arguments = [(0,10), (1, 50), (-10,-1), (1,50), (1, 10)]\n",
    ")\n",
    "\n",
    "\n",
    "maxrecall_prec, maxrecall_recall, list(maxrecall_model.parameters())"
   ]
  },
  {
   "cell_type": "markdown",
   "id": "0a30e107-7f26-4547-9c2b-bd23299698f3",
   "metadata": {},
   "source": [
    "### 1D dataset"
   ]
  },
  {
   "cell_type": "code",
   "execution_count": 12,
   "id": "bbf01f27-13af-4149-9e04-618e5442a196",
   "metadata": {},
   "outputs": [],
   "source": [
    "from sklearn.datasets import make_classification\n",
    "\n",
    "xsk, ysk = make_classification(\n",
    "    n_samples=10000, \n",
    "    n_features=1, \n",
    "    n_informative=1, \n",
    "    n_redundant=0, \n",
    "    n_classes=2, \n",
    "    n_clusters_per_class=1, \n",
    "    class_sep=2.,\n",
    "    random_state=6\n",
    ")\n"
   ]
  },
  {
   "cell_type": "code",
   "execution_count": 13,
   "id": "bd7ad138-9dad-4238-acd5-c9fb99f2fd54",
   "metadata": {},
   "outputs": [
    {
     "data": {
      "text/plain": [
       "<matplotlib.collections.PathCollection at 0x7fd723d66700>"
      ]
     },
     "execution_count": 13,
     "metadata": {},
     "output_type": "execute_result"
    },
    {
     "data": {
      "image/png": "[encoded data removed]",
      "text/plain": [
       "<Figure size 432x288 with 1 Axes>"
      ]
     },
     "metadata": {
      "needs_background": "light"
     },
     "output_type": "display_data"
    }
   ],
   "source": [
    "plt.scatter(xsk, ysk)"
   ]
  },
  {
   "cell_type": "code",
   "execution_count": 14,
   "id": "46e32f89-2fda-46d8-852e-704b49ec5966",
   "metadata": {},
   "outputs": [],
   "source": [
    "xsk_train = xsk[:9000]\n",
    "ysk_train = ysk[:9000]\n",
    "\n",
    "xsk_test = xsk[9000:]\n",
    "ysk_test = ysk[9000:]"
   ]
  },
  {
   "cell_type": "code",
   "execution_count": 17,
   "id": "8bb26760-9759-4307-84b2-d1434e52a0f2",
   "metadata": {},
   "outputs": [
    {
     "data": {
      "text/plain": [
       "(0.9842829076620825, 0.9842829076620825)"
      ]
     },
     "execution_count": 17,
     "metadata": {},
     "output_type": "execute_result"
    }
   ],
   "source": [
    "\n",
    "param_init = np.zeros(xsk_train.shape[1] + 1) # includes the intercept term\n",
    "\n",
    "bce_prec, bce_recall, bce_model = run_model(\n",
    "    xsk_train, \n",
    "    ysk_train, \n",
    "    xsk_test, \n",
    "    ysk_test, \n",
    "    0.5, \n",
    "    param_init, \n",
    "    loss = nn.BCEWithLogitsLoss, \n",
    "    loss_params = {}\n",
    ")\n",
    "\n",
    "bce_prec, bce_recall"
   ]
  },
  {
   "cell_type": "code",
   "execution_count": 18,
   "id": "e6d5a273-8986-4f41-b451-9cd989d11723",
   "metadata": {},
   "outputs": [
    {
     "data": {
      "text/plain": [
       "(0.9387755102040817, 0.9941060903732809)"
      ]
     },
     "execution_count": 18,
     "metadata": {},
     "output_type": "execute_result"
    }
   ],
   "source": [
    "sklearnlogreg = LogisticRegression()\n",
    "sklearnlogreg = sklearnlogreg.fit(xsk_train, ysk_train)\n",
    "param_init = np.concatenate([sklearnlogreg.coef_.flatten(), sklearnlogreg.intercept_])\n",
    "\n",
    "maxrecall_prec, maxrecall_recall, maxrecall_model = run_model(\n",
    "    xsk_train, \n",
    "    ysk_train, \n",
    "    xsk_test, \n",
    "    ysk_test, \n",
    "    0.5, \n",
    "    param_init,\n",
    "    loss = MinPrecLoss, \n",
    "    loss_params = {\n",
    "        'min_prec':0.8, \n",
    "        'lmbda': 1e4, \n",
    "        'sigmoid_hyperparams': {'gamma': 7, 'delta': 0.035, 'eps': 0.75},\n",
    "        # 'sigmoid_params': {'mtilde': 6.85,'btilde': -3.54, 'mhat': 6.85, 'bhat': 1.59}\n",
    "    }\n",
    ")\n",
    "\n",
    "\n",
    "maxrecall_prec, maxrecall_recall"
   ]
  },
  {
   "cell_type": "markdown",
   "id": "4e822e34-f604-4b83-a4f7-e56dca7c7357",
   "metadata": {},
   "source": [
    "### moons dataset"
   ]
  },
  {
   "cell_type": "code",
   "execution_count": 19,
   "id": "00eeade1-a367-4739-91d1-2051680a93e8",
   "metadata": {},
   "outputs": [],
   "source": [
    "from sklearn.datasets import make_moons\n",
    "\n",
    "xmoons, ymoons = make_moons(n_samples = 10000, noise=0.1, random_state=7)"
   ]
  },
  {
   "cell_type": "code",
   "execution_count": 20,
   "id": "b0de84da-70d6-446b-bfe4-cd3c2f7769ef",
   "metadata": {},
   "outputs": [],
   "source": [
    "xmoons_train = xmoons[:9000]\n",
    "ymoons_train = ymoons[:9000]\n",
    "\n",
    "xmoons_test = xmoons[9000:]\n",
    "ymoons_test = ymoons[9000:]"
   ]
  },
  {
   "cell_type": "code",
   "execution_count": 21,
   "id": "321609ce-d06a-47bd-9696-7e7f35514f3c",
   "metadata": {},
   "outputs": [
    {
     "data": {
      "text/plain": [
       "<matplotlib.collections.PathCollection at 0x7fd72e9e2df0>"
      ]
     },
     "execution_count": 21,
     "metadata": {},
     "output_type": "execute_result"
    },
    {
     "data": {
      "image/png": "[encoded data removed]",
      "text/plain": [
       "<Figure size 432x288 with 1 Axes>"
      ]
     },
     "metadata": {
      "needs_background": "light"
     },
     "output_type": "display_data"
    }
   ],
   "source": [
    "plt.scatter(xmoons_train[:,0], xmoons_train[:,1], c=ymoons_train, alpha=0.3)"
   ]
  },
  {
   "cell_type": "code",
   "execution_count": 22,
   "id": "ace9eb41-4910-44a1-b135-f2af10a740b5",
   "metadata": {},
   "outputs": [
    {
     "data": {
      "text/plain": [
       "(0.8668076109936576, 0.8631578947368421)"
      ]
     },
     "execution_count": 22,
     "metadata": {},
     "output_type": "execute_result"
    }
   ],
   "source": [
    "\n",
    "param_init = np.zeros(xmoons_train.shape[1] + 1) # includes the intercept term\n",
    "\n",
    "bce_prec, bce_recall, bce_model = run_model(\n",
    "    xmoons_train,\n",
    "    ymoons_train,\n",
    "    xmoons_test,\n",
    "    ymoons_test,\n",
    "    0.5, \n",
    "    param_init, \n",
    "    loss = nn.BCEWithLogitsLoss, \n",
    "    loss_params = {}\n",
    ")\n",
    "\n",
    "bce_prec, bce_recall"
   ]
  },
  {
   "cell_type": "code",
   "execution_count": 23,
   "id": "616530c8-625c-4e0d-bbaa-1550f3fdd4e8",
   "metadata": {},
   "outputs": [
    {
     "data": {
      "text/plain": [
       "(0.8524590163934426, 0.8757894736842106)"
      ]
     },
     "execution_count": 23,
     "metadata": {},
     "output_type": "execute_result"
    }
   ],
   "source": [
    "sklearnlogreg = LogisticRegression()\n",
    "sklearnlogreg = sklearnlogreg.fit(xmoons_train, ymoons_train)\n",
    "param_init = np.concatenate([sklearnlogreg.coef_.flatten(), sklearnlogreg.intercept_])\n",
    "\n",
    "maxrecall_prec, maxrecall_recall, maxrecall_model = run_model(\n",
    "    xmoons_train,\n",
    "    ymoons_train,\n",
    "    xmoons_test,\n",
    "    ymoons_test, \n",
    "    0.5, \n",
    "    param_init,\n",
    "    loss = MinPrecLoss, \n",
    "    loss_params = {\n",
    "        'min_prec':0.8, \n",
    "        'lmbda': 1e4, \n",
    "        'sigmoid_hyperparams': {'gamma': 7, 'delta': 0.035, 'eps': 0.75},\n",
    "        # 'sigmoid_params': {'mtilde': 6.85,'btilde': -3.54, 'mhat': 6.85, 'bhat': 1.59}\n",
    "    }\n",
    ")\n",
    "\n",
    "\n",
    "maxrecall_prec, maxrecall_recall"
   ]
  },
  {
   "cell_type": "code",
   "execution_count": 144,
   "id": "a4a97f7a-4a77-4a62-b747-7535677101da",
   "metadata": {},
   "outputs": [
    {
     "data": {
      "text/plain": [
       "(0.9033018867924528,\n",
       " 0.8063157894736842,\n",
       " [Parameter containing:\n",
       "  tensor([ 0.8614, -6.2947,  0.5808], requires_grad=True),\n",
       "  Parameter containing:\n",
       "  tensor(0.0100, requires_grad=True),\n",
       "  Parameter containing:\n",
       "  tensor(7.5420, requires_grad=True),\n",
       "  Parameter containing:\n",
       "  tensor(-2.7551, requires_grad=True),\n",
       "  Parameter containing:\n",
       "  tensor(7.3347, requires_grad=True),\n",
       "  Parameter containing:\n",
       "  tensor(1., requires_grad=True)])"
      ]
     },
     "execution_count": 144,
     "metadata": {},
     "output_type": "execute_result"
    }
   ],
   "source": [
    "sklearnlogreg = LogisticRegression()\n",
    "sklearnlogreg = sklearnlogreg.fit(xmoons_train, ymoons_train)\n",
    "param_init = np.concatenate([sklearnlogreg.coef_.flatten(), sklearnlogreg.intercept_])\n",
    "\n",
    "maxrecall_prec, maxrecall_recall, maxrecall_model = run_model(\n",
    "    xmoons_train,\n",
    "    ymoons_train,\n",
    "    xmoons_test,\n",
    "    ymoons_test, \n",
    "    0.5, \n",
    "    param_init,\n",
    "    loss = LearnableMinPrecLoss, \n",
    "    loss_params = {\n",
    "        'min_prec':0.8, \n",
    "        'lmbda': 1e8, \n",
    "        'lmbda2': 1e8, \n",
    "        'sigmoid_hyperparams': {\n",
    "            'sigmoid_scale': nn.Parameter(torch.tensor(0.2)), \n",
    "            'mtilde': nn.Parameter(torch.tensor(6.8)), \n",
    "            'btilde': nn.Parameter(torch.tensor(-3.5)),\n",
    "            'mhat': nn.Parameter(torch.tensor(6.8)),\n",
    "            'bhat': nn.Parameter(torch.tensor(1.5))\n",
    "        },\n",
    "    },\n",
    "    trainable_loss_arguments = [(0,10), (1, 50), (-10,-1), (1,50), (1, 10)]\n",
    ")\n",
    "\n",
    "\n",
    "maxrecall_prec, maxrecall_recall, list(maxrecall_model.parameters())"
   ]
  },
  {
   "cell_type": "markdown",
   "id": "bb65af16-ea5b-4483-a362-fa54e6f9d9a8",
   "metadata": {},
   "source": [
    "### dtatset from papaer"
   ]
  },
  {
   "cell_type": "code",
   "execution_count": 27,
   "id": "3d424b7b-3e84-4e0b-aa0e-a895e86c0850",
   "metadata": {},
   "outputs": [],
   "source": [
    "#https://github.com/tufts-ml/false-alarm-control/blob/main/toy_example_comparing_BCE_Hinge_and_Sigmoid.ipynb\n",
    "\n",
    "from data import toydata"
   ]
  },
  {
   "cell_type": "code",
   "execution_count": 28,
   "id": "0c8071c8-ce4b-4343-8cd0-d56cdd1b230e",
   "metadata": {},
   "outputs": [],
   "source": [
    "x_toy, y_toy, _, _, _, _ = toydata.create_toy_dataset()"
   ]
  },
  {
   "cell_type": "code",
   "execution_count": 29,
   "id": "799c2f34-1eab-4f17-ac5b-7452ea68bf46",
   "metadata": {},
   "outputs": [
    {
     "data": {
      "image/png": "[encoded data removed]",
      "text/plain": [
       "<Figure size 432x288 with 1 Axes>"
      ]
     },
     "metadata": {
      "needs_background": "light"
     },
     "output_type": "display_data"
    }
   ],
   "source": [
    "cdict = {0: 'green', 1: 'blue'}\n",
    "mdict = {0:'o', 1:'x'}\n",
    "\n",
    "fig, ax = plt.subplots()\n",
    "for g in np.unique(y_toy):\n",
    "    ix = np.where(y_toy == g)\n",
    "    ax.scatter(x_toy[ix,0], x_toy[ix,1], c = cdict[g], marker=mdict[g], label = g, alpha=0.3)\n",
    "ax.legend()\n",
    "\n",
    "plt.show()"
   ]
  },
  {
   "cell_type": "code",
   "execution_count": 31,
   "id": "2da7326c-610d-490e-bc9a-bd3c94cc5bfb",
   "metadata": {},
   "outputs": [],
   "source": [
    "idx = np.array(range(y_toy.shape[0]))\n",
    "\n",
    "rng.shuffle(idx)"
   ]
  },
  {
   "cell_type": "code",
   "execution_count": 32,
   "id": "28b4fd26-f441-4ff8-853e-889e2c208278",
   "metadata": {},
   "outputs": [],
   "source": [
    "xtrain_toy = x_toy[idx[:300]]\n",
    "ytrain_toy = y_toy[idx[:300]]\n",
    "\n",
    "xtest_toy = x_toy[idx[300:]]\n",
    "ytest_toy = y_toy[idx[300:]]"
   ]
  },
  {
   "cell_type": "code",
   "execution_count": 33,
   "id": "cae2a98d-1174-4d97-b5cc-46fd55c6bc8f",
   "metadata": {},
   "outputs": [
    {
     "data": {
      "text/plain": [
       "(0.6666666666666666, 0.6538461538461539)"
      ]
     },
     "execution_count": 33,
     "metadata": {},
     "output_type": "execute_result"
    }
   ],
   "source": [
    "\n",
    "param_init = np.zeros(xtrain_toy.shape[1] + 1) # includes the intercept term\n",
    "\n",
    "bce_prec, bce_recall, bce_model = run_model(\n",
    "    xtrain_toy,\n",
    "    ytrain_toy,\n",
    "    xtest_toy,\n",
    "    ytest_toy,\n",
    "    0.5, \n",
    "    param_init, \n",
    "    loss = nn.BCEWithLogitsLoss, \n",
    "    loss_params = {}\n",
    ")\n",
    "\n",
    "bce_prec, bce_recall"
   ]
  },
  {
   "cell_type": "code",
   "execution_count": 34,
   "id": "ae6e066a-01a3-4d0e-8c03-43a08274d85f",
   "metadata": {},
   "outputs": [
    {
     "data": {
      "text/plain": [
       "(0.75, 0.6923076923076923)"
      ]
     },
     "execution_count": 34,
     "metadata": {},
     "output_type": "execute_result"
    }
   ],
   "source": [
    "sklearnlogreg = LogisticRegression()\n",
    "sklearnlogreg = sklearnlogreg.fit(xtrain_toy, ytrain_toy)\n",
    "param_init = np.concatenate([sklearnlogreg.coef_.flatten(), sklearnlogreg.intercept_])\n",
    "\n",
    "maxrecall_prec, maxrecall_recall, maxrecall_model = run_model(\n",
    "    xtrain_toy,\n",
    "    ytrain_toy,\n",
    "    xtest_toy,\n",
    "    ytest_toy, \n",
    "    0.5, \n",
    "    param_init,\n",
    "    loss = MinPrecLoss, \n",
    "    loss_params = {\n",
    "        'min_prec':0.8, \n",
    "        'lmbda': 1e4, \n",
    "        'sigmoid_hyperparams': {'gamma': 7, 'delta': 0.035, 'eps': 0.75},\n",
    "        # 'sigmoid_params': {'mtilde': 6.85,'btilde': -3.54, 'mhat': 6.85, 'bhat': 1.59}\n",
    "    }\n",
    ")\n",
    "\n",
    "\n",
    "maxrecall_prec, maxrecall_recall"
   ]
  },
  {
   "cell_type": "code",
   "execution_count": 149,
   "id": "7d688570-6987-4d23-8b68-c65a7446919e",
   "metadata": {},
   "outputs": [
    {
     "data": {
      "text/plain": [
       "(0.6451612903225806,\n",
       " 0.38461538461538464,\n",
       " [Parameter containing:\n",
       "  tensor([-0.9352, -1.7945, -2.6523], requires_grad=True),\n",
       "  Parameter containing:\n",
       "  tensor(-0.8161, requires_grad=True),\n",
       "  Parameter containing:\n",
       "  tensor(7.8115, requires_grad=True),\n",
       "  Parameter containing:\n",
       "  tensor(-2.4786, requires_grad=True),\n",
       "  Parameter containing:\n",
       "  tensor(7.7112, requires_grad=True),\n",
       "  Parameter containing:\n",
       "  tensor(0.5395, requires_grad=True)])"
      ]
     },
     "execution_count": 149,
     "metadata": {},
     "output_type": "execute_result"
    }
   ],
   "source": [
    "sklearnlogreg = LogisticRegression()\n",
    "sklearnlogreg = sklearnlogreg.fit(xtrain_toy, ytrain_toy)\n",
    "param_init = np.concatenate([sklearnlogreg.coef_.flatten(), sklearnlogreg.intercept_])\n",
    "\n",
    "maxrecall_prec, maxrecall_recall, maxrecall_model = run_model(\n",
    "    xtrain_toy,\n",
    "    ytrain_toy,\n",
    "    xtest_toy,\n",
    "    ytest_toy, \n",
    "    0.5, \n",
    "    param_init,\n",
    "    loss = LearnableMinPrecLoss, \n",
    "    loss_params = {\n",
    "        'min_prec':0.8, \n",
    "        'lmbda': 1e8, \n",
    "        'lmbda2': 1e8, \n",
    "        'sigmoid_hyperparams': {\n",
    "            'sigmoid_scale': nn.Parameter(torch.tensor(0.2)), \n",
    "            'mtilde': nn.Parameter(torch.tensor(6.8)), \n",
    "            'btilde': nn.Parameter(torch.tensor(-3.5)),\n",
    "            'mhat': nn.Parameter(torch.tensor(6.8)),\n",
    "            'bhat': nn.Parameter(torch.tensor(1.5))\n",
    "        },\n",
    "    },\n",
    "    trainable_loss_arguments = [(-1,10), (0, 50), (-10,10), (0,50), (-10, 10)]\n",
    ")\n",
    "\n",
    "\n",
    "maxrecall_prec, maxrecall_recall, list(maxrecall_model.parameters())"
   ]
  },
  {
   "cell_type": "markdown",
   "id": "d270c9b5-4b49-4905-a918-d30cd7a44a8f",
   "metadata": {},
   "source": [
    "### diabites data"
   ]
  },
  {
   "cell_type": "code",
   "execution_count": 35,
   "id": "b3d2e98b-5c05-4d5e-9a9c-b4c327d875b7",
   "metadata": {},
   "outputs": [],
   "source": [
    "from sklearn.preprocessing import StandardScaler\n",
    "\n",
    "from sklearn.model_selection import train_test_split"
   ]
  },
  {
   "cell_type": "code",
   "execution_count": 38,
   "id": "fb0a5569-704b-4938-8e93-9273884d903d",
   "metadata": {},
   "outputs": [],
   "source": [
    "data_df = pd.read_csv('../data/diabetes2.csv')\n",
    "\n",
    "df_train, df_test = train_test_split(data_df, test_size=0.3)\n",
    "\n",
    "X_train = df_train.drop(columns='Outcome').values\n",
    "y_train = df_train['Outcome'].values\n",
    "\n",
    "X_test = df_test.drop(columns='Outcome').values\n",
    "y_test = df_test['Outcome'].values"
   ]
  },
  {
   "cell_type": "code",
   "execution_count": 39,
   "id": "2a784d6b-ea30-4f8a-a184-a9c792911934",
   "metadata": {},
   "outputs": [
    {
     "data": {
      "text/plain": [
       "StandardScaler()"
      ]
     },
     "execution_count": 39,
     "metadata": {},
     "output_type": "execute_result"
    }
   ],
   "source": [
    "scaler = StandardScaler()\n",
    "scaler.fit(X_train)"
   ]
  },
  {
   "cell_type": "code",
   "execution_count": 40,
   "id": "5f71a5de-16be-433e-99ee-a49a86cb7e14",
   "metadata": {},
   "outputs": [],
   "source": [
    "x_train_scaled = scaler.transform(X_train)\n",
    "x_test_scaled = scaler.transform(X_test)"
   ]
  },
  {
   "cell_type": "code",
   "execution_count": 41,
   "id": "4250d4c2-d194-4b19-8491-0d75d6c6a2ee",
   "metadata": {},
   "outputs": [
    {
     "data": {
      "text/plain": [
       "(0.7, 0.5454545454545454)"
      ]
     },
     "execution_count": 41,
     "metadata": {},
     "output_type": "execute_result"
    }
   ],
   "source": [
    "param_init = np.zeros(x_train_scaled.shape[1] + 1) # includes the intercept term\n",
    "\n",
    "bce_prec, bce_recall, bce_model = run_model(\n",
    "    x_train_scaled,\n",
    "    y_train,\n",
    "    x_test_scaled,\n",
    "    y_test,\n",
    "    0.5, \n",
    "    param_init, \n",
    "    loss = nn.BCEWithLogitsLoss, \n",
    "    loss_params = {}\n",
    ")\n",
    "\n",
    "bce_prec, bce_recall"
   ]
  },
  {
   "cell_type": "code",
   "execution_count": 42,
   "id": "b893ba5f-0622-4e39-b6e7-c4399cadd955",
   "metadata": {},
   "outputs": [
    {
     "name": "stderr",
     "output_type": "stream",
     "text": [
      "/Users/ee24pl/opt/miniconda3/envs/min_prec/lib/python3.9/site-packages/sklearn/metrics/_classification.py:1318: UndefinedMetricWarning: Precision is ill-defined and being set to 0.0 due to no predicted samples. Use `zero_division` parameter to control this behavior.\n",
      "  _warn_prf(average, modifier, msg_start, len(result))\n"
     ]
    },
    {
     "data": {
      "text/plain": [
       "(0.0, 0.0)"
      ]
     },
     "execution_count": 42,
     "metadata": {},
     "output_type": "execute_result"
    }
   ],
   "source": [
    "sklearnlogreg = LogisticRegression()\n",
    "sklearnlogreg = sklearnlogreg.fit(x_train_scaled, y_train)\n",
    "param_init = np.concatenate([sklearnlogreg.coef_.flatten(), sklearnlogreg.intercept_])\n",
    "\n",
    "maxrecall_prec, maxrecall_recall, maxrecall_model = run_model(\n",
    "    x_train_scaled,\n",
    "    y_train,\n",
    "    x_test_scaled,\n",
    "    y_test,\n",
    "    0.5, \n",
    "    param_init,\n",
    "    loss = MinPrecLoss, \n",
    "    loss_params = {\n",
    "        'min_prec':0.8, \n",
    "        'lmbda': 1e4, \n",
    "        'sigmoid_hyperparams': {'gamma': 7, 'delta': 0.035, 'eps': 0.75},\n",
    "        # 'sigmoid_params': {'mtilde': 6.85,'btilde': -3.54, 'mhat': 6.85, 'bhat': 1.59}\n",
    "    }\n",
    ")\n",
    "\n",
    "\n",
    "maxrecall_prec, maxrecall_recall"
   ]
  },
  {
   "cell_type": "code",
   "execution_count": null,
   "id": "88566bdb-ce11-4d45-827d-f5971c8937ab",
   "metadata": {},
   "outputs": [],
   "source": []
  },
  {
   "cell_type": "code",
   "execution_count": null,
   "id": "00ca445a-3b35-4ef6-8954-9fdeeb195984",
   "metadata": {},
   "outputs": [],
   "source": []
  },
  {
   "cell_type": "code",
   "execution_count": null,
   "id": "45756432-bb92-4dda-9414-4e28bbbd1b47",
   "metadata": {},
   "outputs": [],
   "source": []
  }
 ],
 "metadata": {
  "jupytext": {
   "formats": "ipynb,py:light"
  },
  "kernelspec": {
   "display_name": "Python [conda env:min_prec]",
   "language": "python",
   "name": "conda-env-min_prec-py"
  },
  "language_info": {
   "codemirror_mode": {
    "name": "ipython",
    "version": 3
   },
   "file_extension": ".py",
   "mimetype": "text/x-python",
   "name": "python",
   "nbconvert_exporter": "python",
   "pygments_lexer": "ipython3",
   "version": "3.9.12"
  }
 },
 "nbformat": 4,
 "nbformat_minor": 5
}
