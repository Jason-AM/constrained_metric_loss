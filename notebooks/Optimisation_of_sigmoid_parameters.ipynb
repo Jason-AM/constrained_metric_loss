{
 "cells": [
  {
   "cell_type": "markdown",
   "id": "12f4041d",
   "metadata": {
    "lines_to_next_cell": 0
   },
   "source": [
    "import cvxpy as cp\n",
    "\n",
    "def sigmoid(x):\n",
    "    return cp.inv_pos(1+cp.exp(-x)) #https://stackoverflow.com/a/71644683\n",
    "\n",
    "eps = 0.75\n",
    "delta = 0.035\n",
    "gamma = 7\n",
    "\n",
    "m = cp.Variable(1)\n",
    "b = cp.Variable(1)\n",
    "\n",
    "#Eqn 9\n",
    "def u(a):\n",
    "    return (1+gamma*delta)*sigmoid(m*a + b)\n",
    "\n",
    "objective = cp.Minimize(cp.sum(cp.square(delta - u(-eps)) + cp.square(1 + delta - u(0))))\n",
    "\n",
    "#constraints = []\n",
    "prob = cp.Problem(objective)\n",
    "\n",
    "result = prob.solve()\n",
    "\n",
    "print((m.value, b.value))"
   ]
  },
  {
   "cell_type": "markdown",
   "id": "f3d81ff0",
   "metadata": {},
   "source": [
    "https://github.com/cvxpy/cvxpy/discussions/1468#discussioncomment-1278396"
   ]
  },
  {
   "cell_type": "markdown",
   "id": "b9656496",
   "metadata": {
    "lines_to_next_cell": 2
   },
   "source": [
    "from analyzer import tech_support\n",
    "\n",
    "tech_support(prob)"
   ]
  },
  {
   "cell_type": "code",
   "execution_count": 8,
   "id": "43c16b55",
   "metadata": {},
   "outputs": [],
   "source": [
    "import torch\n",
    "import torch.nn as nn\n",
    "import torch.optim as optim\n",
    "\n",
    "class tight_sigmoid(nn.Module):\n",
    "    def __init__(self, eps, delta, gamma):\n",
    "        super().__init__()\n",
    "        \n",
    "        self.eps = eps\n",
    "        self.delta = delta\n",
    "        self.gamma = gamma\n",
    "        \n",
    "        self.m = nn.Parameter(torch.zeros(1))\n",
    "        self.b = nn.Parameter(torch.zeros(1))\n",
    "        \n",
    "    def forward(self):\n",
    "        \n",
    "        def u(a):\n",
    "            return (1+self.gamma*self.delta)*torch.sigmoid(self.m*a + self.b)\n",
    "        \n",
    "        # obj = torch.sum(torch.square(self.delta - u(-self.eps)) + torch.square(1 + self.delta - u(0)))\n",
    "        obj = torch.sum(torch.square(1 + self.delta - u(self.eps)) + torch.square(self.delta - u(0)))\n",
    "        return obj"
   ]
  },
  {
   "cell_type": "code",
   "execution_count": 9,
   "id": "a0e402b7",
   "metadata": {},
   "outputs": [],
   "source": [
    "eps = 0.75\n",
    "delta = 0.035\n",
    "gamma = 7"
   ]
  },
  {
   "cell_type": "code",
   "execution_count": 10,
   "id": "5d059475",
   "metadata": {},
   "outputs": [],
   "source": [
    "model = tight_sigmoid(eps, delta, gamma)"
   ]
  },
  {
   "cell_type": "code",
   "execution_count": 11,
   "id": "af58c823",
   "metadata": {},
   "outputs": [],
   "source": [
    "optimizer = optim.Adam(model.parameters(), lr=1)\n",
    "#optimizer = optim.LBFGS(model.parameters())"
   ]
  },
  {
   "cell_type": "code",
   "execution_count": 12,
   "id": "3fff752a",
   "metadata": {},
   "outputs": [],
   "source": [
    "for _ in range(1000):\n",
    "    optimizer.zero_grad()\n",
    "    loss = model()\n",
    "    loss.backward()\n",
    "    optimizer.step()"
   ]
  },
  {
   "cell_type": "code",
   "execution_count": 13,
   "id": "fae1341c",
   "metadata": {},
   "outputs": [
    {
     "name": "stdout",
     "output_type": "stream",
     "text": [
      "m tensor([6.8508])\n",
      "b tensor([-3.5430])\n"
     ]
    }
   ],
   "source": [
    "for name, param in model.named_parameters():\n",
    "    if param.requires_grad:\n",
    "        print(name, param.data)"
   ]
  },
  {
   "cell_type": "code",
   "execution_count": 7,
   "id": "079a251a",
   "metadata": {},
   "outputs": [
    {
     "name": "stdout",
     "output_type": "stream",
     "text": [
      "(6.850767612457275, 1.5950491428375244)\n"
     ]
    }
   ],
   "source": [
    "m, b = model.named_parameters()\n",
    "m = float(m[1].detach().numpy())\n",
    "b = float(b[1].detach().numpy())\n",
    "\n",
    "print((m,b))"
   ]
  },
  {
   "cell_type": "markdown",
   "id": "42ab3de2",
   "metadata": {},
   "source": [
    "Fitted values shown in paper (below eqn. 10) are:  \n",
    "\"m = 6.85 and shift b = 1.59\""
   ]
  },
  {
   "cell_type": "code",
   "execution_count": 8,
   "id": "4049414c",
   "metadata": {},
   "outputs": [],
   "source": [
    "import numpy as np\n",
    "\n",
    "def u(a):\n",
    "    return (1+gamma*delta)/(1 + np.exp(-(m*a + b)))"
   ]
  },
  {
   "cell_type": "code",
   "execution_count": 9,
   "id": "82d315f9",
   "metadata": {},
   "outputs": [],
   "source": [
    "x = np.linspace(-1, 1, 100)\n",
    "\n",
    "y = u(x)"
   ]
  },
  {
   "cell_type": "code",
   "execution_count": 10,
   "id": "629a0684",
   "metadata": {},
   "outputs": [
    {
     "data": {
      "text/plain": [
       "[<matplotlib.lines.Line2D at 0x10b2a0700>]"
      ]
     },
     "execution_count": 10,
     "metadata": {},
     "output_type": "execute_result"
    },
    {
     "data": {
      "image/png": "[encoded data removed]",
      "text/plain": [
       "<Figure size 432x288 with 1 Axes>"
      ]
     },
     "metadata": {
      "needs_background": "light"
     },
     "output_type": "display_data"
    }
   ],
   "source": [
    "import matplotlib.pyplot as plt\n",
    "\n",
    "plt.axhline(delta, color='r', linestyle='--')\n",
    "plt.axvline(-eps, color='r', linestyle='--')\n",
    "\n",
    "plt.axhline(1+delta, color='g', linestyle='--')\n",
    "plt.axvline(0, color='g', linestyle='--')\n",
    "\n",
    "plt.plot(x, y)"
   ]
  },
  {
   "cell_type": "markdown",
   "id": "6ab148b2",
   "metadata": {},
   "source": [
    "Checking if fitted values satisfy the constraints they should (eqn. 8 in paper).  \n",
    "Each of the two consecutive quantities below should be approximately equal."
   ]
  },
  {
   "cell_type": "code",
   "execution_count": 11,
   "id": "ed92b763",
   "metadata": {
    "scrolled": true
   },
   "outputs": [
    {
     "data": {
      "text/plain": [
       "0.03500003437651286"
      ]
     },
     "execution_count": 11,
     "metadata": {},
     "output_type": "execute_result"
    }
   ],
   "source": [
    "u(-eps)"
   ]
  },
  {
   "cell_type": "code",
   "execution_count": 12,
   "id": "35b398d4",
   "metadata": {},
   "outputs": [
    {
     "data": {
      "text/plain": [
       "0.035"
      ]
     },
     "execution_count": 12,
     "metadata": {},
     "output_type": "execute_result"
    }
   ],
   "source": [
    "delta"
   ]
  },
  {
   "cell_type": "code",
   "execution_count": null,
   "id": "0483074c",
   "metadata": {},
   "outputs": [],
   "source": []
  },
  {
   "cell_type": "code",
   "execution_count": 13,
   "id": "cb7f85fb",
   "metadata": {},
   "outputs": [
    {
     "data": {
      "text/plain": [
       "1.0349999943882715"
      ]
     },
     "execution_count": 13,
     "metadata": {},
     "output_type": "execute_result"
    }
   ],
   "source": [
    "u(0)"
   ]
  },
  {
   "cell_type": "code",
   "execution_count": 14,
   "id": "820716e7",
   "metadata": {},
   "outputs": [
    {
     "data": {
      "text/plain": [
       "1.035"
      ]
     },
     "execution_count": 14,
     "metadata": {},
     "output_type": "execute_result"
    }
   ],
   "source": [
    "1+delta"
   ]
  },
  {
   "cell_type": "code",
   "execution_count": null,
   "id": "5bdd9bc2",
   "metadata": {},
   "outputs": [],
   "source": []
  },
  {
   "cell_type": "markdown",
   "id": "0f796c8c",
   "metadata": {},
   "source": [
    "Next step: plot the loss as a function of m,b. Purely to see what it looks like."
   ]
  },
  {
   "cell_type": "code",
   "execution_count": null,
   "id": "574e77b5",
   "metadata": {},
   "outputs": [],
   "source": []
  }
 ],
 "metadata": {
  "kernelspec": {
   "display_name": "Python 3 (ipykernel)",
   "language": "python",
   "name": "python3"
  },
  "language_info": {
   "codemirror_mode": {
    "name": "ipython",
    "version": 3
   },
   "file_extension": ".py",
   "mimetype": "text/x-python",
   "name": "python",
   "nbconvert_exporter": "python",
   "pygments_lexer": "ipython3",
   "version": "3.9.12"
  }
 },
 "nbformat": 4,
 "nbformat_minor": 5
}
